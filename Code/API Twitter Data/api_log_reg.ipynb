{
 "cells": [
  {
   "cell_type": "code",
   "execution_count": 2,
   "id": "27e61dad-0803-4a04-99e3-6bd293ddf9af",
   "metadata": {},
   "outputs": [],
   "source": [
    "import numpy as np\n",
    "import matplotlib.pyplot as plt\n",
    "import pandas as pd"
   ]
  },
  {
   "cell_type": "code",
   "execution_count": 6,
   "id": "621f5d93-ae32-4e4e-ab1e-10f53a19b747",
   "metadata": {},
   "outputs": [],
   "source": [
    "from sklearn.feature_extraction.text import CountVectorizer, TfidfVectorizer\n",
    "from sklearn.linear_model import LogisticRegression\n",
    "from sklearn.model_selection import train_test_split\n",
    "from sklearn.metrics import accuracy_score, roc_auc_score, classification_report"
   ]
  },
  {
   "cell_type": "code",
   "execution_count": 7,
   "id": "15263a48-edc6-47b2-8d49-1c43fdc0c026",
   "metadata": {},
   "outputs": [],
   "source": [
    "def print_metrics(y_test, y_pred):\n",
    "    print(f\"Accuracy: {accuracy_score(y_test, y_pred)}\")\n",
    "    print(f\"AUC score: {roc_auc_score(y_test, y_pred)}\")\n",
    "    print(f\"classification_report:\\n {classification_report(y_test, y_pred)}\")\n",
    "\n",
    "def plot_imp_vars(coef, df_name, vectorizer):\n",
    "    coef = pd.Series(coef, index=vectorizer.get_feature_names_out())\n",
    "    imp_coef = pd.concat([coef.sort_values().head(10),\n",
    "                     coef.sort_values().tail(10)])\n",
    "    imp_coef.plot(kind = \"barh\", color=['red', 'red', 'red', 'red', 'red', 'red', 'red', 'red', 'red', 'red','green','green','green','green', 'green', 'green', 'green', 'green', 'green','green'])\n",
    "    plt.title(\"Coefficients in Logistic Regression Model for \" + str(df_name))"
   ]
  },
  {
   "cell_type": "code",
   "execution_count": 4,
   "id": "a18e1fc1-0b30-4bfb-a09f-18f406057729",
   "metadata": {},
   "outputs": [
    {
     "data": {
      "text/html": [
       "<div>\n",
       "<style scoped>\n",
       "    .dataframe tbody tr th:only-of-type {\n",
       "        vertical-align: middle;\n",
       "    }\n",
       "\n",
       "    .dataframe tbody tr th {\n",
       "        vertical-align: top;\n",
       "    }\n",
       "\n",
       "    .dataframe thead th {\n",
       "        text-align: right;\n",
       "    }\n",
       "</style>\n",
       "<table border=\"1\" class=\"dataframe\">\n",
       "  <thead>\n",
       "    <tr style=\"text-align: right;\">\n",
       "      <th></th>\n",
       "      <th>body</th>\n",
       "      <th>Target</th>\n",
       "    </tr>\n",
       "  </thead>\n",
       "  <tbody>\n",
       "    <tr>\n",
       "      <th>0</th>\n",
       "      <td>well washing your tesla cybertruck in a drive ...</td>\n",
       "      <td>0.0</td>\n",
       "    </tr>\n",
       "    <tr>\n",
       "      <th>1</th>\n",
       "      <td>do you all have a system for the model 3 premi...</td>\n",
       "      <td>0.0</td>\n",
       "    </tr>\n",
       "    <tr>\n",
       "      <th>2</th>\n",
       "      <td>yup will drop tesla eps to near zero powerwall...</td>\n",
       "      <td>0.0</td>\n",
       "    </tr>\n",
       "    <tr>\n",
       "      <th>3</th>\n",
       "      <td>is paying now for decision in 2019 tesla secre...</td>\n",
       "      <td>0.0</td>\n",
       "    </tr>\n",
       "    <tr>\n",
       "      <th>4</th>\n",
       "      <td>as a proud german tesla investor and happy mod...</td>\n",
       "      <td>0.0</td>\n",
       "    </tr>\n",
       "    <tr>\n",
       "      <th>...</th>\n",
       "      <td>...</td>\n",
       "      <td>...</td>\n",
       "    </tr>\n",
       "    <tr>\n",
       "      <th>7574</th>\n",
       "      <td>gillion avoigt man i hope whoever you have rep...</td>\n",
       "      <td>0.0</td>\n",
       "    </tr>\n",
       "    <tr>\n",
       "      <th>7575</th>\n",
       "      <td>as of march 271 billion in cash amp 24 billion...</td>\n",
       "      <td>0.0</td>\n",
       "    </tr>\n",
       "    <tr>\n",
       "      <th>7576</th>\n",
       "      <td>i can see tesla tesla around 2000 by 2027 easy</td>\n",
       "      <td>0.0</td>\n",
       "    </tr>\n",
       "    <tr>\n",
       "      <th>7577</th>\n",
       "      <td>market close tesla closed at 1719700high 17562...</td>\n",
       "      <td>0.0</td>\n",
       "    </tr>\n",
       "    <tr>\n",
       "      <th>7578</th>\n",
       "      <td>did pull the greatest 1t heist ever using tesl...</td>\n",
       "      <td>0.0</td>\n",
       "    </tr>\n",
       "  </tbody>\n",
       "</table>\n",
       "<p>7579 rows × 2 columns</p>\n",
       "</div>"
      ],
      "text/plain": [
       "                                                   body  Target\n",
       "0     well washing your tesla cybertruck in a drive ...     0.0\n",
       "1     do you all have a system for the model 3 premi...     0.0\n",
       "2     yup will drop tesla eps to near zero powerwall...     0.0\n",
       "3     is paying now for decision in 2019 tesla secre...     0.0\n",
       "4     as a proud german tesla investor and happy mod...     0.0\n",
       "...                                                 ...     ...\n",
       "7574  gillion avoigt man i hope whoever you have rep...     0.0\n",
       "7575  as of march 271 billion in cash amp 24 billion...     0.0\n",
       "7576     i can see tesla tesla around 2000 by 2027 easy     0.0\n",
       "7577  market close tesla closed at 1719700high 17562...     0.0\n",
       "7578  did pull the greatest 1t heist ever using tesl...     0.0\n",
       "\n",
       "[7579 rows x 2 columns]"
      ]
     },
     "execution_count": 4,
     "metadata": {},
     "output_type": "execute_result"
    }
   ],
   "source": [
    "curr_tweets_df = pd.read_csv(\"curr_tweets.csv\")\n",
    "curr_tweets_df"
   ]
  },
  {
   "cell_type": "code",
   "execution_count": 8,
   "id": "57f5fea5-8ccf-443d-86aa-45c59c6881c3",
   "metadata": {},
   "outputs": [],
   "source": [
    "X_train, X_test, y_train, y_test = train_test_split(curr_tweets_df['body'], curr_tweets_df['Target'], test_size=0.2, random_state=42)"
   ]
  },
  {
   "cell_type": "code",
   "execution_count": 9,
   "id": "f2ea4783-bc7d-4362-a532-3c3c14aa0999",
   "metadata": {},
   "outputs": [
    {
     "name": "stdout",
     "output_type": "stream",
     "text": [
      "Accuracy: 0.6827176781002638\n",
      "AUC score: 0.6815208803168805\n",
      "classification_report:\n",
      "               precision    recall  f1-score   support\n",
      "\n",
      "         0.0       0.69      0.71      0.70       793\n",
      "         1.0       0.67      0.66      0.66       723\n",
      "\n",
      "    accuracy                           0.68      1516\n",
      "   macro avg       0.68      0.68      0.68      1516\n",
      "weighted avg       0.68      0.68      0.68      1516\n",
      "\n"
     ]
    }
   ],
   "source": [
    "# Initializing the TfidfVectorizer\n",
    "vectorizer = TfidfVectorizer(stop_words='english', max_features=2000)\n",
    "\n",
    "# Fit the vectorizer on the training set and transform both training and testing sets\n",
    "X_train_vec = vectorizer.fit_transform(X_train)\n",
    "X_test_vec = vectorizer.transform(X_test)\n",
    "\n",
    "# Running logistic regression model\n",
    "log_reg = LogisticRegression(random_state=42, max_iter=500)\n",
    "log_reg.fit(X_train_vec, y_train)\n",
    "\n",
    "# Predicting the test set\n",
    "y_pred = log_reg.predict(X_test_vec)\n",
    "print_metrics(y_test, y_pred)"
   ]
  },
  {
   "cell_type": "code",
   "execution_count": 11,
   "id": "b9cad366-aed9-4200-943f-bbc825ea03d3",
   "metadata": {},
   "outputs": [
    {
     "data": {
      "image/png": "[encoded data removed]",
      "text/plain": [
       "<Figure size 640x480 with 1 Axes>"
      ]
     },
     "metadata": {},
     "output_type": "display_data"
    }
   ],
   "source": [
    "plot_imp_vars(log_reg.coef_[0], \"API tweets\", vectorizer)"
   ]
  }
 ],
 "metadata": {
  "kernelspec": {
   "display_name": "Python 3 (ipykernel)",
   "language": "python",
   "name": "python3"
  },
  "language_info": {
   "codemirror_mode": {
    "name": "ipython",
    "version": 3
   },
   "file_extension": ".py",
   "mimetype": "text/x-python",
   "name": "python",
   "nbconvert_exporter": "python",
   "pygments_lexer": "ipython3",
   "version": "3.11.7"
  }
 },
 "nbformat": 4,
 "nbformat_minor": 5
}
