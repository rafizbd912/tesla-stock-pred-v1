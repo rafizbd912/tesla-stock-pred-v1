{
 "cells": [
  {
   "cell_type": "code",
   "execution_count": 16,
   "id": "fc2ecddc-cad5-4659-b314-6b4dbf0de787",
   "metadata": {},
   "outputs": [],
   "source": [
    "import numpy as np\n",
    "import yfinance as yf\n",
    "from datetime import datetime\n",
    "from pytz import timezone\n",
    "import matplotlib.pyplot as plt"
   ]
  },
  {
   "cell_type": "code",
   "execution_count": 17,
   "id": "7fd416f1-8112-4935-becc-4671b60473f0",
   "metadata": {},
   "outputs": [
    {
     "data": {
      "text/plain": [
       "array([datetime.datetime(2024, 5, 3, 18, 29, 2, tzinfo=datetime.timezone.utc),\n",
       "       datetime.datetime(2024, 5, 3, 18, 54, 19, tzinfo=datetime.timezone.utc),\n",
       "       datetime.datetime(2024, 5, 3, 19, 31, 26, tzinfo=datetime.timezone.utc),\n",
       "       ...,\n",
       "       datetime.datetime(2024, 5, 10, 20, 23, 17, tzinfo=datetime.timezone.utc),\n",
       "       datetime.datetime(2024, 5, 10, 20, 33, 39, tzinfo=datetime.timezone.utc),\n",
       "       datetime.datetime(2024, 5, 10, 20, 38, 36, tzinfo=datetime.timezone.utc)],\n",
       "      dtype=object)"
      ]
     },
     "execution_count": 17,
     "metadata": {},
     "output_type": "execute_result"
    }
   ],
   "source": [
    "tweet_dates = np.load(\"dates.npy\", allow_pickle=True)\n",
    "tweet_dates_sorted = np.sort(tweet_dates)\n",
    "tweet_dates_sorted"
   ]
  },
  {
   "cell_type": "code",
   "execution_count": 18,
   "id": "d5608cc6-34ae-4282-9238-827ffaa65e3d",
   "metadata": {},
   "outputs": [
    {
     "data": {
      "text/html": [
       "<div>\n",
       "<style scoped>\n",
       "    .dataframe tbody tr th:only-of-type {\n",
       "        vertical-align: middle;\n",
       "    }\n",
       "\n",
       "    .dataframe tbody tr th {\n",
       "        vertical-align: top;\n",
       "    }\n",
       "\n",
       "    .dataframe thead th {\n",
       "        text-align: right;\n",
       "    }\n",
       "</style>\n",
       "<table border=\"1\" class=\"dataframe\">\n",
       "  <thead>\n",
       "    <tr style=\"text-align: right;\">\n",
       "      <th></th>\n",
       "      <th>Open</th>\n",
       "      <th>High</th>\n",
       "      <th>Low</th>\n",
       "      <th>Close</th>\n",
       "      <th>Volume</th>\n",
       "      <th>Dividends</th>\n",
       "      <th>Stock Splits</th>\n",
       "    </tr>\n",
       "    <tr>\n",
       "      <th>Date</th>\n",
       "      <th></th>\n",
       "      <th></th>\n",
       "      <th></th>\n",
       "      <th></th>\n",
       "      <th></th>\n",
       "      <th></th>\n",
       "      <th></th>\n",
       "    </tr>\n",
       "  </thead>\n",
       "  <tbody>\n",
       "    <tr>\n",
       "      <th>2024-05-03 00:00:00-04:00</th>\n",
       "      <td>182.100006</td>\n",
       "      <td>184.779999</td>\n",
       "      <td>178.419998</td>\n",
       "      <td>181.190002</td>\n",
       "      <td>75491500</td>\n",
       "      <td>0.0</td>\n",
       "      <td>0.0</td>\n",
       "    </tr>\n",
       "    <tr>\n",
       "      <th>2024-05-06 00:00:00-04:00</th>\n",
       "      <td>183.800003</td>\n",
       "      <td>187.559998</td>\n",
       "      <td>182.199997</td>\n",
       "      <td>184.759995</td>\n",
       "      <td>84390300</td>\n",
       "      <td>0.0</td>\n",
       "      <td>0.0</td>\n",
       "    </tr>\n",
       "    <tr>\n",
       "      <th>2024-05-07 00:00:00-04:00</th>\n",
       "      <td>182.399994</td>\n",
       "      <td>183.259995</td>\n",
       "      <td>177.399994</td>\n",
       "      <td>177.809998</td>\n",
       "      <td>75045900</td>\n",
       "      <td>0.0</td>\n",
       "      <td>0.0</td>\n",
       "    </tr>\n",
       "    <tr>\n",
       "      <th>2024-05-08 00:00:00-04:00</th>\n",
       "      <td>171.589996</td>\n",
       "      <td>176.059998</td>\n",
       "      <td>170.149994</td>\n",
       "      <td>174.720001</td>\n",
       "      <td>79969500</td>\n",
       "      <td>0.0</td>\n",
       "      <td>0.0</td>\n",
       "    </tr>\n",
       "    <tr>\n",
       "      <th>2024-05-09 00:00:00-04:00</th>\n",
       "      <td>175.009995</td>\n",
       "      <td>175.619995</td>\n",
       "      <td>171.369995</td>\n",
       "      <td>171.970001</td>\n",
       "      <td>65950300</td>\n",
       "      <td>0.0</td>\n",
       "      <td>0.0</td>\n",
       "    </tr>\n",
       "    <tr>\n",
       "      <th>2024-05-10 00:00:00-04:00</th>\n",
       "      <td>173.050003</td>\n",
       "      <td>173.059998</td>\n",
       "      <td>167.750000</td>\n",
       "      <td>168.470001</td>\n",
       "      <td>72627200</td>\n",
       "      <td>0.0</td>\n",
       "      <td>0.0</td>\n",
       "    </tr>\n",
       "  </tbody>\n",
       "</table>\n",
       "</div>"
      ],
      "text/plain": [
       "                                 Open        High         Low       Close  \\\n",
       "Date                                                                        \n",
       "2024-05-03 00:00:00-04:00  182.100006  184.779999  178.419998  181.190002   \n",
       "2024-05-06 00:00:00-04:00  183.800003  187.559998  182.199997  184.759995   \n",
       "2024-05-07 00:00:00-04:00  182.399994  183.259995  177.399994  177.809998   \n",
       "2024-05-08 00:00:00-04:00  171.589996  176.059998  170.149994  174.720001   \n",
       "2024-05-09 00:00:00-04:00  175.009995  175.619995  171.369995  171.970001   \n",
       "2024-05-10 00:00:00-04:00  173.050003  173.059998  167.750000  168.470001   \n",
       "\n",
       "                             Volume  Dividends  Stock Splits  \n",
       "Date                                                          \n",
       "2024-05-03 00:00:00-04:00  75491500        0.0           0.0  \n",
       "2024-05-06 00:00:00-04:00  84390300        0.0           0.0  \n",
       "2024-05-07 00:00:00-04:00  75045900        0.0           0.0  \n",
       "2024-05-08 00:00:00-04:00  79969500        0.0           0.0  \n",
       "2024-05-09 00:00:00-04:00  65950300        0.0           0.0  \n",
       "2024-05-10 00:00:00-04:00  72627200        0.0           0.0  "
      ]
     },
     "execution_count": 18,
     "metadata": {},
     "output_type": "execute_result"
    }
   ],
   "source": [
    "tesla = yf.Ticker(\"TSLA\")\n",
    "\n",
    "# Fetching historical data\n",
    "tesla_data = tesla.history(start=\"2024-05-03\", end=\"2024-05-11\")\n",
    "tesla_data"
   ]
  },
  {
   "cell_type": "markdown",
   "id": "124bcdc3-74ff-49f9-9506-8ccd37fc3706",
   "metadata": {},
   "source": [
    "This gives a clear distinction: 5/3-5/7 is a high period and 5/8-5/10 is a low period."
   ]
  },
  {
   "cell_type": "code",
   "execution_count": 19,
   "id": "76d0a706-a34d-4545-aa41-9d6c5e0b1646",
   "metadata": {},
   "outputs": [],
   "source": [
    "# UTC time\n",
    "cutoff_date = datetime(2024, 5, 8, 4, 0, 0, tzinfo=timezone('UTC'))\n",
    "labels = np.zeros(len(tweet_dates))\n",
    "\n",
    "for i, date in enumerate(tweet_dates):\n",
    "    if date < cutoff_date:\n",
    "        labels[i] = 1\n",
    "    else:\n",
    "        labels[i] = 0"
   ]
  },
  {
   "cell_type": "code",
   "execution_count": 20,
   "id": "0c0239c8-74dc-48da-ad06-6c99ea2bdadb",
   "metadata": {},
   "outputs": [
    {
     "data": {
      "text/plain": [
       "array([datetime.datetime(2024, 5, 10, 18, 9, 41, tzinfo=datetime.timezone.utc),\n",
       "       datetime.datetime(2024, 5, 10, 17, 56, 4, tzinfo=datetime.timezone.utc),\n",
       "       datetime.datetime(2024, 5, 10, 17, 28, 48, tzinfo=datetime.timezone.utc),\n",
       "       ...,\n",
       "       datetime.datetime(2024, 5, 10, 0, 16, 55, tzinfo=datetime.timezone.utc),\n",
       "       datetime.datetime(2024, 5, 10, 0, 4, 38, tzinfo=datetime.timezone.utc),\n",
       "       datetime.datetime(2024, 5, 10, 0, 3, 54, tzinfo=datetime.timezone.utc)],\n",
       "      dtype=object)"
      ]
     },
     "execution_count": 20,
     "metadata": {},
     "output_type": "execute_result"
    }
   ],
   "source": [
    "tweet_dates"
   ]
  },
  {
   "cell_type": "code",
   "execution_count": 21,
   "id": "48bc7b16-78a8-4c71-abf9-0bde022af38d",
   "metadata": {},
   "outputs": [
    {
     "name": "stdout",
     "output_type": "stream",
     "text": [
      "[0. 0. 0. 0. 0. 0. 0. 0. 0. 0. 0. 0. 0. 0. 0. 1. 1. 1. 1. 1. 1. 1. 1. 1.\n",
      " 1. 1. 1. 1. 1. 1.]\n",
      "0.0\n"
     ]
    }
   ],
   "source": [
    "print(labels[270:300])\n",
    "print(labels[284])"
   ]
  },
  {
   "cell_type": "code",
   "execution_count": 22,
   "id": "499aa060-492a-4285-a691-2f4d74de8479",
   "metadata": {},
   "outputs": [
    {
     "name": "stdout",
     "output_type": "stream",
     "text": [
      "2024-05-08 04:07:29+00:00\n",
      "2024-05-08 03:41:12+00:00\n"
     ]
    }
   ],
   "source": [
    "print(tweet_dates[284])\n",
    "print(tweet_dates[285])"
   ]
  },
  {
   "cell_type": "code",
   "execution_count": 25,
   "id": "596b051c-98a9-4d4c-908d-05dd3ea379cd",
   "metadata": {},
   "outputs": [
    {
     "name": "stdout",
     "output_type": "stream",
     "text": [
      "3911\n"
     ]
    },
    {
     "data": {
      "text/plain": [
       "Text(0.5, 1.0, 'Frequency of output labels, API data')"
      ]
     },
     "execution_count": 25,
     "metadata": {},
     "output_type": "execute_result"
    },
    {
     "data": {
      "image/png": "[encoded data removed]",
      "text/plain": [
       "<Figure size 640x480 with 1 Axes>"
      ]
     },
     "metadata": {},
     "output_type": "display_data"
    }
   ],
   "source": [
    "num_0 = len(np.where(labels == 0)[0])\n",
    "num_1 = len(np.where(labels == 1)[0])\n",
    "\n",
    "print(num_0)\n",
    "\n",
    "plt.bar([\"0\", \"1\"], [num_0, num_1])\n",
    "plt.xlabel(\"Output labels\")\n",
    "plt.ylabel(\"Frequency\")\n",
    "plt.title(\"Frequency of output labels, API data\")"
   ]
  },
  {
   "cell_type": "code",
   "execution_count": 10,
   "id": "f40c4c8c-1439-4d70-abfb-fc4ac3dbe124",
   "metadata": {},
   "outputs": [
    {
     "data": {
      "text/plain": [
       "Text(0.5, 1.0, 'Frequency of API tweet post dates')"
      ]
     },
     "execution_count": 10,
     "metadata": {},
     "output_type": "execute_result"
    },
    {
     "data": {
      "image/png": "[encoded data removed]",
      "text/plain": [
       "<Figure size 640x480 with 1 Axes>"
      ]
     },
     "metadata": {},
     "output_type": "display_data"
    }
   ],
   "source": [
    "plt.hist(tweet_dates, bins=7, histtype='bar', width=0.8)\n",
    "plt.tick_params(axis='x', labelrotation=90)\n",
    "plt.ylabel(\"Frequency\")\n",
    "plt.title(\"Frequency of API tweet post dates\")"
   ]
  },
  {
   "cell_type": "code",
   "execution_count": 11,
   "id": "f49028db-ca5a-49f5-bd89-4f589d40734e",
   "metadata": {},
   "outputs": [],
   "source": [
    "np.save(\"labels.npy\", labels)"
   ]
  }
 ],
 "metadata": {
  "kernelspec": {
   "display_name": "Python 3 (ipykernel)",
   "language": "python",
   "name": "python3"
  },
  "language_info": {
   "codemirror_mode": {
    "name": "ipython",
    "version": 3
   },
   "file_extension": ".py",
   "mimetype": "text/x-python",
   "name": "python",
   "nbconvert_exporter": "python",
   "pygments_lexer": "ipython3",
   "version": "3.11.7"
  }
 },
 "nbformat": 4,
 "nbformat_minor": 5
}
