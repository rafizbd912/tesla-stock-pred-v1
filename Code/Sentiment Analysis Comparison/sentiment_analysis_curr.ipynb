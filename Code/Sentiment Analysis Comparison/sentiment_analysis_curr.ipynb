{
 "cells": [
  {
   "cell_type": "code",
   "execution_count": 1,
   "metadata": {
    "colab": {
     "base_uri": "https://localhost:8080/"
    },
    "id": "kWQdWbM6-S_i",
    "outputId": "1325778b-92ea-462f-e55f-d4ae0cb41f59"
   },
   "outputs": [],
   "source": [
    "!pip install -q transformers"
   ]
  },
  {
   "cell_type": "code",
   "execution_count": 4,
   "metadata": {
    "id": "-LFnZzzciEhf"
   },
   "outputs": [
    {
     "name": "stderr",
     "output_type": "stream",
     "text": [
      "None of PyTorch, TensorFlow >= 2.0, or Flax have been found. Models won't be available and only tokenizers, configuration and file/data utilities can be used.\n"
     ]
    }
   ],
   "source": [
    "import numpy as np\n",
    "import pandas as pd\n",
    "from sklearn.model_selection import train_test_split\n",
    "from sklearn.linear_model import LogisticRegression\n",
    "from sklearn.metrics import classification_report, confusion_matrix\n",
    "import matplotlib.pyplot as plt\n",
    "from transformers import pipeline"
   ]
  },
  {
   "cell_type": "code",
   "execution_count": 3,
   "metadata": {
    "colab": {
     "base_uri": "https://localhost:8080/",
     "height": 206
    },
    "id": "lBp-FFh-mUKG",
    "outputId": "1792e01f-8074-4a1a-d976-4649b6d953c4"
   },
   "outputs": [
    {
     "data": {
      "text/html": [
       "<div>\n",
       "<style scoped>\n",
       "    .dataframe tbody tr th:only-of-type {\n",
       "        vertical-align: middle;\n",
       "    }\n",
       "\n",
       "    .dataframe tbody tr th {\n",
       "        vertical-align: top;\n",
       "    }\n",
       "\n",
       "    .dataframe thead th {\n",
       "        text-align: right;\n",
       "    }\n",
       "</style>\n",
       "<table border=\"1\" class=\"dataframe\">\n",
       "  <thead>\n",
       "    <tr style=\"text-align: right;\">\n",
       "      <th></th>\n",
       "      <th>body</th>\n",
       "      <th>Target</th>\n",
       "    </tr>\n",
       "  </thead>\n",
       "  <tbody>\n",
       "    <tr>\n",
       "      <th>0</th>\n",
       "      <td>well washing your tesla cybertruck in a drive ...</td>\n",
       "      <td>0.0</td>\n",
       "    </tr>\n",
       "    <tr>\n",
       "      <th>1</th>\n",
       "      <td>do you all have a system for the model 3 premi...</td>\n",
       "      <td>0.0</td>\n",
       "    </tr>\n",
       "    <tr>\n",
       "      <th>2</th>\n",
       "      <td>yup will drop tesla eps to near zero powerwall...</td>\n",
       "      <td>0.0</td>\n",
       "    </tr>\n",
       "    <tr>\n",
       "      <th>3</th>\n",
       "      <td>is paying now for decision in 2019 tesla secre...</td>\n",
       "      <td>0.0</td>\n",
       "    </tr>\n",
       "    <tr>\n",
       "      <th>4</th>\n",
       "      <td>as a proud german tesla investor and happy mod...</td>\n",
       "      <td>0.0</td>\n",
       "    </tr>\n",
       "  </tbody>\n",
       "</table>\n",
       "</div>"
      ],
      "text/plain": [
       "                                                body  Target\n",
       "0  well washing your tesla cybertruck in a drive ...     0.0\n",
       "1  do you all have a system for the model 3 premi...     0.0\n",
       "2  yup will drop tesla eps to near zero powerwall...     0.0\n",
       "3  is paying now for decision in 2019 tesla secre...     0.0\n",
       "4  as a proud german tesla investor and happy mod...     0.0"
      ]
     },
     "execution_count": 3,
     "metadata": {},
     "output_type": "execute_result"
    }
   ],
   "source": [
    "curr_tweets_df = pd.DataFrame(pd.read_csv('curr_tweets.csv'))\n",
    "curr_tweets_df.head()"
   ]
  },
  {
   "cell_type": "code",
   "execution_count": null,
   "metadata": {},
   "outputs": [],
   "source": [
    "def get_sentiments(df):\n",
    "    tweet_text = list(df['body'].to_numpy(dtype=str))\n",
    "    sentiment_pipeline = pipeline(\"sentiment-analysis\", model=\"cardiffnlp/twitter-roberta-base-sentiment-latest\")\n",
    "    sentiments = sentiment_pipeline(tweet_text)\n",
    "\n",
    "    return sentiments"
   ]
  },
  {
   "cell_type": "code",
   "execution_count": 8,
   "metadata": {
    "colab": {
     "base_uri": "https://localhost:8080/"
    },
    "id": "5flp7nA_2uAA",
    "outputId": "0cbafa3e-86ac-420b-e6c2-2b6863b8f922"
   },
   "outputs": [],
   "source": [
    "#curr_sentiments = get_sentiments(curr_tweets_df)\n",
    "curr_sentiments = np.load(\"curr_sentiments.npy\", allow_pickle=True)"
   ]
  },
  {
   "cell_type": "code",
   "execution_count": 11,
   "metadata": {},
   "outputs": [],
   "source": [
    "def add_sentiments_df(df, sentiments):\n",
    "    pos_indicator = []\n",
    "    neut_indicator = []\n",
    "    neg_indicator = []\n",
    "    scores = []\n",
    "\n",
    "    for tweet in sentiments:\n",
    "        if tweet['label'] == 'positive':\n",
    "            pos_indicator.append(1)\n",
    "            neut_indicator.append(0)\n",
    "            neg_indicator.append(0)\n",
    "        elif tweet['label'] == 'neutral':\n",
    "            pos_indicator.append(0)\n",
    "            neut_indicator.append(1)\n",
    "            neg_indicator.append(0)\n",
    "        else:\n",
    "            pos_indicator.append(0)\n",
    "            neut_indicator.append(0)\n",
    "            neg_indicator.append(1)\n",
    "        scores.append(tweet['score'])\n",
    "\n",
    "    scores_pos_prod = np.multiply(pos_indicator, scores)\n",
    "    scores_neut_prod = np.multiply(neut_indicator, scores)\n",
    "    scores_neg_prod = np.multiply(neg_indicator, scores)\n",
    "\n",
    "    new_columns_data = {'I(positive)': pos_indicator,\n",
    "                    'I(neutral)': neut_indicator,\n",
    "                    'I(negative)': neg_indicator,\n",
    "                    'I(positive)*score': scores_pos_prod,\n",
    "                    'I(neutral)*score': scores_neut_prod,\n",
    "                    'I(negative)*score': scores_neg_prod}\n",
    "    \n",
    "    new_columns_df = pd.DataFrame(new_columns_data)\n",
    "    df_updated = pd.concat([df.reset_index(), new_columns_df], axis=1)\n",
    "\n",
    "    return df_updated"
   ]
  },
  {
   "cell_type": "code",
   "execution_count": 14,
   "metadata": {},
   "outputs": [
    {
     "data": {
      "text/html": [
       "<div>\n",
       "<style scoped>\n",
       "    .dataframe tbody tr th:only-of-type {\n",
       "        vertical-align: middle;\n",
       "    }\n",
       "\n",
       "    .dataframe tbody tr th {\n",
       "        vertical-align: top;\n",
       "    }\n",
       "\n",
       "    .dataframe thead th {\n",
       "        text-align: right;\n",
       "    }\n",
       "</style>\n",
       "<table border=\"1\" class=\"dataframe\">\n",
       "  <thead>\n",
       "    <tr style=\"text-align: right;\">\n",
       "      <th></th>\n",
       "      <th>body</th>\n",
       "      <th>Target</th>\n",
       "      <th>I(positive)</th>\n",
       "      <th>I(neutral)</th>\n",
       "      <th>I(negative)</th>\n",
       "      <th>I(positive)*score</th>\n",
       "      <th>I(neutral)*score</th>\n",
       "      <th>I(negative)*score</th>\n",
       "    </tr>\n",
       "  </thead>\n",
       "  <tbody>\n",
       "    <tr>\n",
       "      <th>0</th>\n",
       "      <td>well washing your tesla cybertruck in a drive ...</td>\n",
       "      <td>0.0</td>\n",
       "      <td>0</td>\n",
       "      <td>1</td>\n",
       "      <td>0</td>\n",
       "      <td>0.000000</td>\n",
       "      <td>0.529800</td>\n",
       "      <td>0.000000</td>\n",
       "    </tr>\n",
       "    <tr>\n",
       "      <th>1</th>\n",
       "      <td>do you all have a system for the model 3 premi...</td>\n",
       "      <td>0.0</td>\n",
       "      <td>0</td>\n",
       "      <td>1</td>\n",
       "      <td>0</td>\n",
       "      <td>0.000000</td>\n",
       "      <td>0.881811</td>\n",
       "      <td>0.000000</td>\n",
       "    </tr>\n",
       "    <tr>\n",
       "      <th>2</th>\n",
       "      <td>yup will drop tesla eps to near zero powerwall...</td>\n",
       "      <td>0.0</td>\n",
       "      <td>1</td>\n",
       "      <td>0</td>\n",
       "      <td>0</td>\n",
       "      <td>0.664899</td>\n",
       "      <td>0.000000</td>\n",
       "      <td>0.000000</td>\n",
       "    </tr>\n",
       "    <tr>\n",
       "      <th>3</th>\n",
       "      <td>is paying now for decision in 2019 tesla secre...</td>\n",
       "      <td>0.0</td>\n",
       "      <td>0</td>\n",
       "      <td>1</td>\n",
       "      <td>0</td>\n",
       "      <td>0.000000</td>\n",
       "      <td>0.856915</td>\n",
       "      <td>0.000000</td>\n",
       "    </tr>\n",
       "    <tr>\n",
       "      <th>4</th>\n",
       "      <td>as a proud german tesla investor and happy mod...</td>\n",
       "      <td>0.0</td>\n",
       "      <td>0</td>\n",
       "      <td>0</td>\n",
       "      <td>1</td>\n",
       "      <td>0.000000</td>\n",
       "      <td>0.000000</td>\n",
       "      <td>0.885586</td>\n",
       "    </tr>\n",
       "    <tr>\n",
       "      <th>...</th>\n",
       "      <td>...</td>\n",
       "      <td>...</td>\n",
       "      <td>...</td>\n",
       "      <td>...</td>\n",
       "      <td>...</td>\n",
       "      <td>...</td>\n",
       "      <td>...</td>\n",
       "      <td>...</td>\n",
       "    </tr>\n",
       "    <tr>\n",
       "      <th>7574</th>\n",
       "      <td>gillion avoigt man i hope whoever you have rep...</td>\n",
       "      <td>0.0</td>\n",
       "      <td>1</td>\n",
       "      <td>0</td>\n",
       "      <td>0</td>\n",
       "      <td>0.835626</td>\n",
       "      <td>0.000000</td>\n",
       "      <td>0.000000</td>\n",
       "    </tr>\n",
       "    <tr>\n",
       "      <th>7575</th>\n",
       "      <td>as of march 271 billion in cash amp 24 billion...</td>\n",
       "      <td>0.0</td>\n",
       "      <td>0</td>\n",
       "      <td>0</td>\n",
       "      <td>1</td>\n",
       "      <td>0.000000</td>\n",
       "      <td>0.000000</td>\n",
       "      <td>0.578163</td>\n",
       "    </tr>\n",
       "    <tr>\n",
       "      <th>7576</th>\n",
       "      <td>i can see tesla tesla around 2000 by 2027 easy</td>\n",
       "      <td>0.0</td>\n",
       "      <td>0</td>\n",
       "      <td>1</td>\n",
       "      <td>0</td>\n",
       "      <td>0.000000</td>\n",
       "      <td>0.634903</td>\n",
       "      <td>0.000000</td>\n",
       "    </tr>\n",
       "    <tr>\n",
       "      <th>7577</th>\n",
       "      <td>market close tesla closed at 1719700high 17562...</td>\n",
       "      <td>0.0</td>\n",
       "      <td>0</td>\n",
       "      <td>1</td>\n",
       "      <td>0</td>\n",
       "      <td>0.000000</td>\n",
       "      <td>0.905242</td>\n",
       "      <td>0.000000</td>\n",
       "    </tr>\n",
       "    <tr>\n",
       "      <th>7578</th>\n",
       "      <td>did pull the greatest 1t heist ever using tesl...</td>\n",
       "      <td>0.0</td>\n",
       "      <td>0</td>\n",
       "      <td>1</td>\n",
       "      <td>0</td>\n",
       "      <td>0.000000</td>\n",
       "      <td>0.556337</td>\n",
       "      <td>0.000000</td>\n",
       "    </tr>\n",
       "  </tbody>\n",
       "</table>\n",
       "<p>7579 rows × 8 columns</p>\n",
       "</div>"
      ],
      "text/plain": [
       "                                                   body  Target  I(positive)  \\\n",
       "0     well washing your tesla cybertruck in a drive ...     0.0            0   \n",
       "1     do you all have a system for the model 3 premi...     0.0            0   \n",
       "2     yup will drop tesla eps to near zero powerwall...     0.0            1   \n",
       "3     is paying now for decision in 2019 tesla secre...     0.0            0   \n",
       "4     as a proud german tesla investor and happy mod...     0.0            0   \n",
       "...                                                 ...     ...          ...   \n",
       "7574  gillion avoigt man i hope whoever you have rep...     0.0            1   \n",
       "7575  as of march 271 billion in cash amp 24 billion...     0.0            0   \n",
       "7576     i can see tesla tesla around 2000 by 2027 easy     0.0            0   \n",
       "7577  market close tesla closed at 1719700high 17562...     0.0            0   \n",
       "7578  did pull the greatest 1t heist ever using tesl...     0.0            0   \n",
       "\n",
       "      I(neutral)  I(negative)  I(positive)*score  I(neutral)*score  \\\n",
       "0              1            0           0.000000          0.529800   \n",
       "1              1            0           0.000000          0.881811   \n",
       "2              0            0           0.664899          0.000000   \n",
       "3              1            0           0.000000          0.856915   \n",
       "4              0            1           0.000000          0.000000   \n",
       "...          ...          ...                ...               ...   \n",
       "7574           0            0           0.835626          0.000000   \n",
       "7575           0            1           0.000000          0.000000   \n",
       "7576           1            0           0.000000          0.634903   \n",
       "7577           1            0           0.000000          0.905242   \n",
       "7578           1            0           0.000000          0.556337   \n",
       "\n",
       "      I(negative)*score  \n",
       "0              0.000000  \n",
       "1              0.000000  \n",
       "2              0.000000  \n",
       "3              0.000000  \n",
       "4              0.885586  \n",
       "...                 ...  \n",
       "7574           0.000000  \n",
       "7575           0.578163  \n",
       "7576           0.000000  \n",
       "7577           0.000000  \n",
       "7578           0.000000  \n",
       "\n",
       "[7579 rows x 8 columns]"
      ]
     },
     "execution_count": 14,
     "metadata": {},
     "output_type": "execute_result"
    }
   ],
   "source": [
    "curr_tweets_df_updated = add_sentiments_df(curr_tweets_df, curr_sentiments)\n",
    "curr_tweets_df_updated"
   ]
  },
  {
   "cell_type": "code",
   "execution_count": 16,
   "metadata": {},
   "outputs": [],
   "source": [
    "def run_log_reg(df):\n",
    "    X_train, X_test, y_train, y_test = train_test_split(df[['I(positive)', 'I(neutral)', 'I(negative)', 'I(positive)*score', \n",
    "                                                            'I(neutral)*score', 'I(negative)*score']],\n",
    "                                                        df['Target'], test_size=0.2, random_state=42)\n",
    "\n",
    "    clf = LogisticRegression(random_state=0).fit(X_train, y_train)\n",
    "    y_pred = clf.predict(X_test)\n",
    "\n",
    "    classification_rep = classification_report(y_test, y_pred)\n",
    "    conf_matrix = confusion_matrix(y_test, y_pred)\n",
    "    \n",
    "    print(\"Classification Report:\")\n",
    "    print(classification_rep)\n",
    "    \n",
    "    print(\"Confusion Matrix:\")\n",
    "    print(conf_matrix)"
   ]
  },
  {
   "cell_type": "code",
   "execution_count": 18,
   "metadata": {
    "id": "rdMNO_yL504a"
   },
   "outputs": [
    {
     "name": "stdout",
     "output_type": "stream",
     "text": [
      "Classification Report:\n",
      "              precision    recall  f1-score   support\n",
      "\n",
      "         0.0       0.53      0.70      0.60       793\n",
      "         1.0       0.49      0.32      0.38       723\n",
      "\n",
      "    accuracy                           0.52      1516\n",
      "   macro avg       0.51      0.51      0.49      1516\n",
      "weighted avg       0.51      0.52      0.50      1516\n",
      "\n",
      "Confusion Matrix:\n",
      "[[552 241]\n",
      " [494 229]]\n"
     ]
    }
   ],
   "source": [
    "run_log_reg(curr_tweets_df_updated)"
   ]
  }
 ],
 "metadata": {
  "colab": {
   "provenance": []
  },
  "kernelspec": {
   "display_name": "Python 3 (ipykernel)",
   "language": "python",
   "name": "python3"
  },
  "language_info": {
   "codemirror_mode": {
    "name": "ipython",
    "version": 3
   },
   "file_extension": ".py",
   "mimetype": "text/x-python",
   "name": "python",
   "nbconvert_exporter": "python",
   "pygments_lexer": "ipython3",
   "version": "3.11.7"
  }
 },
 "nbformat": 4,
 "nbformat_minor": 4
}
